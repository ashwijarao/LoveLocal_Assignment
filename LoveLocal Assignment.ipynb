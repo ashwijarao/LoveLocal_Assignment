{
 "cells": [
  {
   "cell_type": "markdown",
   "id": "ce94c6b5",
   "metadata": {},
   "source": [
    "## Easy 1"
   ]
  },
  {
   "cell_type": "markdown",
   "id": "beb3d4d0",
   "metadata": {},
   "source": [
    "Given a string s consisting of words and spaces, return the length of the last word in the string.\n",
    "A word is a maximal \n",
    "substring consisting of non-space characters only."
   ]
  },
  {
   "cell_type": "code",
   "execution_count": 17,
   "id": "c015bb1d",
   "metadata": {},
   "outputs": [
    {
     "name": "stdout",
     "output_type": "stream",
     "text": [
      "The last word in the string is 'Universe' with a length of 8.\n"
     ]
    }
   ],
   "source": [
    "# Python code to find the lenght of the last word.\n",
    "\n",
    "def length_of_last_word(s):\n",
    "    # Split the string into words\n",
    "    words = s.split()\n",
    "\n",
    "    # Check if there are any words in the string and return 0 if no words are present\n",
    "    if not words:\n",
    "        return \" \", 0\n",
    "\n",
    "    # If a last word is present then return the length of the last word (-1) indicates the index of the last word\n",
    "    return words[-1], len(words[-1])\n",
    "\n",
    "# Test the method by giving the inputs\n",
    "input_string = \"Hello, welcome to this Universe\"\n",
    "\n",
    "# Call the length_of_last_word() method by passing input_string as the argument\n",
    "word, result = length_of_last_word(input_string)\n",
    "\n",
    "# Print the result  \n",
    "print(f\"The last word in the string is '{word}' with a length of {result}.\")\n"
   ]
  },
  {
   "cell_type": "markdown",
   "id": "cd91d121",
   "metadata": {},
   "source": [
    "## Medium 2"
   ]
  },
  {
   "cell_type": "markdown",
   "id": "e5f6a0f1",
   "metadata": {},
   "source": [
    "Given an integer array of size n, find all elements that appear more than ⌊ n/3 ⌋ times. <br>\n",
    "Constraints are:<br>\n",
    "1 <= nums.length <= 5 * 104 <br>\n",
    "-109 <= nums[i] <= 109"
   ]
  },
  {
   "cell_type": "code",
   "execution_count": 26,
   "id": "31fa071c",
   "metadata": {},
   "outputs": [
    {
     "name": "stdout",
     "output_type": "stream",
     "text": [
      "[4]\n"
     ]
    }
   ],
   "source": [
    "# Python code to calculate the occurrence of the integer\n",
    "\n",
    "def majority_number(nums):\n",
    "    if not nums:\n",
    "        return []\n",
    "\n",
    "    # Initialize numbers and their counters\n",
    "    number1, number2, count1, count2 = None, None, 0, 0\n",
    "\n",
    "    # Count occurrences of numbers in the array\n",
    "    for n in nums:\n",
    "        if n == number1:\n",
    "            count1 += 1\n",
    "        elif n == number2:\n",
    "            count2 += 1\n",
    "        elif count1 == 0:\n",
    "            number1, count1 = n, 1\n",
    "        elif count2 == 0:\n",
    "            number2, count2 = n, 1\n",
    "        else:\n",
    "            count1 -= 1\n",
    "            count2 -= 1\n",
    "\n",
    "    # Find the actual frequencies of number in the array by Resetting the counters\n",
    "    count1, count2 = 0, 0\n",
    "    for i in nums:\n",
    "        if i == number1:\n",
    "            count1 += 1\n",
    "        elif i == number2:\n",
    "            count2 += 1\n",
    "\n",
    "    n = len(nums)\n",
    "    # Storing the result in the form of an array in case there multiple numbers occuring same number of times \n",
    "    result = []\n",
    "    \n",
    "    # Check if numbers are actually in majority\n",
    "    if count1 > n // 3:\n",
    "        result.append(number1)\n",
    "        \n",
    "    # Avoid duplicates by checking for the second time\n",
    "    if count2 > n // 3 and number1 != number2:\n",
    "        result.append(number2)\n",
    "\n",
    "    return result\n",
    "\n",
    "# Giving the input to test the method\n",
    "nums = [3,2,4,4,4,3]\n",
    "result = majority_number(nums)\n",
    "print(result)\n"
   ]
  },
  {
   "cell_type": "markdown",
   "id": "d99a9668",
   "metadata": {},
   "source": [
    "## Hard 3"
   ]
  },
  {
   "cell_type": "markdown",
   "id": "3de8d2af",
   "metadata": {},
   "source": [
    "Given an integer n, count the total number of digit 1 appearing in all non-negative integers less than or equal to n. <br> Constraint: <br>\n",
    "0 <= n <= 109"
   ]
  },
  {
   "cell_type": "code",
   "execution_count": 30,
   "id": "89b951ba",
   "metadata": {},
   "outputs": [
    {
     "name": "stdout",
     "output_type": "stream",
     "text": [
      "7\n"
     ]
    }
   ],
   "source": [
    "#Python code to calculate the count of digit '1' appearing in all non-negative integers less than or equal to n \n",
    "\n",
    "def count_1(n):\n",
    "    \n",
    "    # declare variable to count the occurence of '1'\n",
    "    counter = 0\n",
    "    \n",
    "    for i in range(1,n+1):\n",
    "        \n",
    "        # convert i into string str1 and use the 'count' method to calculate the occurence of digit '1'\n",
    "        str1 = str(i)\n",
    "        counter += str1.count(\"1\")\n",
    "        \n",
    "    # return the total count of digit '1'\n",
    "    return counter\n",
    "\n",
    "# evaluate the method count_1() by giving the value of n and printing the result\n",
    "n = 14\n",
    "print(count_1(n))\n"
   ]
  }
 ],
 "metadata": {
  "kernelspec": {
   "display_name": "Python 3 (ipykernel)",
   "language": "python",
   "name": "python3"
  },
  "language_info": {
   "codemirror_mode": {
    "name": "ipython",
    "version": 3
   },
   "file_extension": ".py",
   "mimetype": "text/x-python",
   "name": "python",
   "nbconvert_exporter": "python",
   "pygments_lexer": "ipython3",
   "version": "3.9.4"
  }
 },
 "nbformat": 4,
 "nbformat_minor": 5
}
